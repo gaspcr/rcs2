{
 "cells": [
  {
   "cell_type": "code",
   "execution_count": 1,
   "id": "58e9553d",
   "metadata": {},
   "outputs": [],
   "source": [
    "#!/usr/bin/env python\n",
    "\n",
    "import pandas as pd\n",
    "import subprocess, sys\n",
    "from pathlib import Path\n",
    "from astropy.io import fits\n",
    "import os"
   ]
  },
  {
   "cell_type": "markdown",
   "id": "b320f536",
   "metadata": {},
   "source": [
    "# CREACIÓN STAMPS POR COORDENADAS"
   ]
  },
  {
   "cell_type": "code",
   "execution_count": null,
   "id": "7360a6f7",
   "metadata": {},
   "outputs": [
    {
     "name": "stdout",
     "output_type": "stream",
     "text": [
      "→ python software/makestamps_rcs2.py 7.999999999999999 1.0 2.0 --out stamps/RCS2_0032+0100 --exact-only\n"
     ]
    },
    {
     "name": "stderr",
     "output_type": "stream",
     "text": [
      "INFO: Chips seleccionados: ['47-I4']\n",
      "INFO: Desempaquetado stamps/RCS2_0032+0100/0047I4_g_05.fits\n",
      "INFO: Desempaquetado stamps/RCS2_0032+0100/0047I4_r_05.fits\n",
      "INFO: Desempaquetado stamps/RCS2_0032+0100/0047I4_i_05.fits\n",
      "INFO: Desempaquetado stamps/RCS2_0032+0100/0047I4_z_05.fits\n"
     ]
    },
    {
     "name": "stdout",
     "output_type": "stream",
     "text": [
      "→ python software/makestamps_rcs2.py 15.5 0.1166666666666666 2.0 --out stamps/RCS2_0102+0007 --exact-only\n"
     ]
    },
    {
     "name": "stderr",
     "output_type": "stream",
     "text": [
      "INFO: Chips seleccionados: ['47-A3']\n",
      "INFO: Desempaquetado stamps/RCS2_0102+0007/0047A3_g_07.fits\n",
      "INFO: Desempaquetado stamps/RCS2_0102+0007/0047A3_r_07.fits\n",
      "INFO: Desempaquetado stamps/RCS2_0102+0007/0047A3_i_07.fits\n",
      "INFO: Desempaquetado stamps/RCS2_0102+0007/0047A3_z_07.fits\n"
     ]
    },
    {
     "name": "stdout",
     "output_type": "stream",
     "text": [
      "→ python software/makestamps_rcs2.py 24.0 0.1333333333333333 2.0 --out stamps/RCS2_0136+0008 --exact-only\n"
     ]
    },
    {
     "name": "stderr",
     "output_type": "stream",
     "text": [
      "INFO: Chips seleccionados: ['133-C3']\n",
      "INFO: Desempaquetado stamps/RCS2_0136+0008/0133C3_g_21.fits\n",
      "INFO: Desempaquetado stamps/RCS2_0136+0008/0133C3_r_21.fits\n",
      "WARNING: No existe header /data/data1/RCS2/HEADERS/0133/0133C3_i_21.hdr\n",
      "ERROR: funpack falló para /data/data1/RCS2/megacam/Patches/0133/0133C3/0133C3_i.fz\n"
     ]
    },
    {
     "name": "stdout",
     "output_type": "stream",
     "text": [
      "Error: can't find or read input file /data/data1/RCS2/megacam/Patches/0133/0133C3/0133C3_i.fz\n",
      "Input and output files are unchanged.\n"
     ]
    },
    {
     "name": "stderr",
     "output_type": "stream",
     "text": [
      "INFO: Desempaquetado stamps/RCS2_0136+0008/0133C3_z_21.fits\n"
     ]
    },
    {
     "name": "stdout",
     "output_type": "stream",
     "text": [
      "→ python software/makestamps_rcs2.py 25.0 -0.9333333333333332 2.0 --out stamps/RCS2_0140-0056 --exact-only\n"
     ]
    },
    {
     "name": "stderr",
     "output_type": "stream",
     "text": [
      "INFO: Chips seleccionados: ['133-B2']\n",
      "INFO: Desempaquetado stamps/RCS2_0140-0056/0133B2_g_30.fits\n",
      "INFO: Desempaquetado stamps/RCS2_0140-0056/0133B2_r_30.fits\n",
      "WARNING: No existe header /data/data1/RCS2/HEADERS/0133/0133B2_i_30.hdr\n",
      "ERROR: funpack falló para /data/data1/RCS2/megacam/Patches/0133/0133B2/0133B2_i.fz\n"
     ]
    },
    {
     "name": "stdout",
     "output_type": "stream",
     "text": [
      "Error: can't find or read input file /data/data1/RCS2/megacam/Patches/0133/0133B2/0133B2_i.fz\n",
      "Input and output files are unchanged.\n"
     ]
    },
    {
     "name": "stderr",
     "output_type": "stream",
     "text": [
      "INFO: Desempaquetado stamps/RCS2_0140-0056/0133B2_z_30.fits\n"
     ]
    },
    {
     "name": "stdout",
     "output_type": "stream",
     "text": [
      "→ python software/makestamps_rcs2.py 58.74999999999999 -5.983333333333333 2.0 --out stamps/RCS2_0355-0559 --exact-only\n"
     ]
    },
    {
     "name": "stderr",
     "output_type": "stream",
     "text": [
      "INFO: Chips seleccionados: ['357-D5']\n",
      "INFO: Desempaquetado stamps/RCS2_0355-0559/0357D5_g_06.fits\n",
      "INFO: Desempaquetado stamps/RCS2_0355-0559/0357D5_r_06.fits\n",
      "INFO: Desempaquetado stamps/RCS2_0355-0559/0357D5_i_06.fits\n",
      "INFO: Desempaquetado stamps/RCS2_0355-0559/0357D5_z_06.fits\n"
     ]
    },
    {
     "name": "stdout",
     "output_type": "stream",
     "text": [
      "→ python software/makestamps_rcs2.py 157.99999999999997 60.3 2.0 --out stamps/RCS2_1032+6018 --exact-only\n"
     ]
    },
    {
     "name": "stderr",
     "output_type": "stream",
     "text": [
      "INFO: Chips seleccionados: ['1040-E5']\n",
      "INFO: Desempaquetado stamps/RCS2_1032+6018/1040E5_g_11.fits\n",
      "INFO: Desempaquetado stamps/RCS2_1032+6018/1040E5_r_11.fits\n",
      "INFO: Desempaquetado stamps/RCS2_1032+6018/1040E5_i_11.fits\n",
      "INFO: Desempaquetado stamps/RCS2_1032+6018/1040E5_z_11.fits\n"
     ]
    },
    {
     "name": "stdout",
     "output_type": "stream",
     "text": [
      "→ python software/makestamps_rcs2.py 224.75 10.383333333333333 2.0 --out stamps/RCS2_1459+1023 --exact-only\n"
     ]
    },
    {
     "name": "stderr",
     "output_type": "stream",
     "text": [
      "INFO: Chips seleccionados: ['1514-I4']\n",
      "INFO: Desempaquetado stamps/RCS2_1459+1023/1514I4_g_05.fits\n",
      "INFO: Desempaquetado stamps/RCS2_1459+1023/1514I4_r_05.fits\n",
      "INFO: Desempaquetado stamps/RCS2_1459+1023/1514I4_i_05.fits\n",
      "INFO: Desempaquetado stamps/RCS2_1459+1023/1514I4_z_05.fits\n"
     ]
    },
    {
     "name": "stdout",
     "output_type": "stream",
     "text": [
      "→ python software/makestamps_rcs2.py 321.49999999999994 0.1 2.0 --out stamps/RCS2_2126+0006 --exact-only\n"
     ]
    },
    {
     "name": "stderr",
     "output_type": "stream",
     "text": [
      "INFO: Chips seleccionados: ['2143-I5']\n",
      "INFO: Desempaquetado stamps/RCS2_2126+0006/2143I5_g_36.fits\n",
      "INFO: Desempaquetado stamps/RCS2_2126+0006/2143I5_r_36.fits\n",
      "INFO: Desempaquetado stamps/RCS2_2126+0006/2143I5_i_36.fits\n",
      "INFO: Desempaquetado stamps/RCS2_2126+0006/2143I5_z_36.fits\n"
     ]
    },
    {
     "name": "stdout",
     "output_type": "stream",
     "text": [
      "→ python software/makestamps_rcs2.py 327.24999999999994 -0.2 2.0 --out stamps/RCS2_2149-0012 --exact-only\n"
     ]
    },
    {
     "name": "stderr",
     "output_type": "stream",
     "text": [
      "INFO: Chips seleccionados: ['2143-C4']\n",
      "INFO: Desempaquetado stamps/RCS2_2149-0012/2143C4_g_09.fits\n",
      "INFO: Desempaquetado stamps/RCS2_2149-0012/2143C4_r_09.fits\n",
      "INFO: Desempaquetado stamps/RCS2_2149-0012/2143C4_i_09.fits\n",
      "INFO: Desempaquetado stamps/RCS2_2149-0012/2143C4_z_09.fits\n"
     ]
    },
    {
     "name": "stdout",
     "output_type": "stream",
     "text": [
      "→ python software/makestamps_rcs2.py 347.99999999999994 -0.3166666666666666 2.0 --out stamps/RCS2_2312-0019 --exact-only\n"
     ]
    },
    {
     "name": "stderr",
     "output_type": "stream",
     "text": [
      "INFO: Chips seleccionados: ['2329-H3']\n",
      "INFO: Desempaquetado stamps/RCS2_2312-0019/2329H3_g_07.fits\n",
      "INFO: Desempaquetado stamps/RCS2_2312-0019/2329H3_r_07.fits\n",
      "INFO: Desempaquetado stamps/RCS2_2312-0019/2329H3_i_07.fits\n",
      "INFO: Desempaquetado stamps/RCS2_2312-0019/2329H3_z_07.fits\n"
     ]
    },
    {
     "name": "stdout",
     "output_type": "stream",
     "text": [
      "→ python software/makestamps_rcs2.py 351.25 0.6166666666666667 2.0 --out stamps/RCS2_2325+0037 --exact-only\n"
     ]
    },
    {
     "name": "stderr",
     "output_type": "stream",
     "text": [
      "INFO: Chips seleccionados: ['2329-E4']\n",
      "INFO: Desempaquetado stamps/RCS2_2325+0037/2329E4_g_03.fits\n",
      "INFO: Desempaquetado stamps/RCS2_2325+0037/2329E4_r_03.fits\n",
      "INFO: Desempaquetado stamps/RCS2_2325+0037/2329E4_i_03.fits\n",
      "INFO: Desempaquetado stamps/RCS2_2325+0037/2329E4_z_03.fits\n"
     ]
    },
    {
     "name": "stdout",
     "output_type": "stream",
     "text": [
      "→ python software/makestamps_rcs2.py 351.49999999999994 -0.3666666666666666 2.0 --out stamps/RCS2_2326-0022 --exact-only\n"
     ]
    },
    {
     "name": "stderr",
     "output_type": "stream",
     "text": [
      "INFO: Chips seleccionados: ['2329-E3']\n",
      "INFO: Desempaquetado stamps/RCS2_2326-0022/2329E3_g_01.fits\n",
      "INFO: Desempaquetado stamps/RCS2_2326-0022/2329E3_r_01.fits\n",
      "INFO: Desempaquetado stamps/RCS2_2326-0022/2329E3_i_01.fits\n",
      "INFO: Desempaquetado stamps/RCS2_2326-0022/2329E3_z_01.fits\n"
     ]
    }
   ],
   "source": [
    "# ── parámetros globales ───────────────────────────────────────────────────\n",
    "CSV_PATH   = \"sc_candidates.csv\"               # tu archivo CSV\n",
    "SCRIPT     = \"software/makestamps_rcs2.py\"            # ruta al script\n",
    "SIZE_ARCMIN = 2.0                            # tamaño del campo\n",
    "BASE_OUT   = Path(\"stamps\")                  # carpeta raíz de salidas\n",
    "EXTRA_OPTS = [\"--exact-only\"]                # otros flags (añade --log DEBUG si quieres)\n",
    "\n",
    "# ── lee la tabla ──────────────────────────────────────────────────────────\n",
    "df = pd.read_csv(CSV_PATH)\n",
    "\n",
    "# ── crea la carpeta base ──────────────────────────────────────────────────\n",
    "BASE_OUT.mkdir(exist_ok=True)\n",
    "\n",
    "for _, row in df.iterrows():\n",
    "    name = row[\"NAME\"]\n",
    "    ra   = row[\"RA_DEG\"]\n",
    "    dec  = row[\"DEC_DEG\"]\n",
    "\n",
    "    out_dir = BASE_OUT / name         # stamps/RCS2_0032+0100/\n",
    "    out_dir.mkdir(exist_ok=True)\n",
    "\n",
    "    cmd = [\n",
    "        \"python\", SCRIPT,\n",
    "        f\"{ra}\", f\"{dec}\", f\"{SIZE_ARCMIN}\",\n",
    "        \"--out\", str(out_dir),\n",
    "        *EXTRA_OPTS,\n",
    "    ]\n",
    "    print(\"→\", \" \".join(cmd))\n",
    "    subprocess.run(cmd, check=True)\n"
   ]
  },
  {
   "cell_type": "code",
   "execution_count": null,
   "id": "72e14a0b",
   "metadata": {},
   "outputs": [
    {
     "name": "stdout",
     "output_type": "stream",
     "text": [
      "→ python software/makestamps_rcs2.py 10.5 3.3 2.0 --out stamps_pc/RCS2_0042+0318 --exact-only\n"
     ]
    },
    {
     "name": "stderr",
     "output_type": "stream",
     "text": [
      "INFO: Chips seleccionados: ['47-F7']\n",
      "INFO: Desempaquetado stamps_pc/RCS2_0042+0318/0047F7_g_27.fits\n",
      "INFO: Desempaquetado stamps_pc/RCS2_0042+0318/0047F7_r_27.fits\n",
      "WARNING: No existe header /data/data1/RCS2/HEADERS/0047/0047F7_i_27.hdr\n",
      "ERROR: funpack falló para /data/data1/RCS2/megacam/Patches/0047/0047F7/0047F7_i.fz\n"
     ]
    },
    {
     "name": "stdout",
     "output_type": "stream",
     "text": [
      "Error: can't find or read input file /data/data1/RCS2/megacam/Patches/0047/0047F7/0047F7_i.fz\n",
      "Input and output files are unchanged.\n"
     ]
    },
    {
     "name": "stderr",
     "output_type": "stream",
     "text": [
      "INFO: Desempaquetado stamps_pc/RCS2_0042+0318/0047F7_z_27.fits\n"
     ]
    },
    {
     "name": "stdout",
     "output_type": "stream",
     "text": [
      "→ python software/makestamps_rcs2.py 9.0 -0.45 2.0 --out stamps_pc/RCS2_0036-0027 --exact-only\n"
     ]
    },
    {
     "name": "stderr",
     "output_type": "stream",
     "text": [
      "INFO: Chips seleccionados: ['47-H3']\n",
      "INFO: Desempaquetado stamps_pc/RCS2_0036-0027/0047H3_g_23.fits\n",
      "INFO: Desempaquetado stamps_pc/RCS2_0036-0027/0047H3_r_23.fits\n",
      "INFO: Desempaquetado stamps_pc/RCS2_0036-0027/0047H3_i_23.fits\n",
      "INFO: Desempaquetado stamps_pc/RCS2_0036-0027/0047H3_z_23.fits\n"
     ]
    },
    {
     "name": "stdout",
     "output_type": "stream",
     "text": [
      "→ python software/makestamps_rcs2.py 9.25 0.3 2.0 --out stamps_pc/RCS2_0037+0018 --exact-only\n"
     ]
    },
    {
     "name": "stderr",
     "output_type": "stream",
     "text": [
      "ERROR: No se encontraron chips para esa posición / tamaño\n"
     ]
    },
    {
     "name": "stdout",
     "output_type": "stream",
     "text": [
      "→ python software/makestamps_rcs2.py 10.25 4.76667 2.0 --out stamps_pc/RCS2_0041+0446 --exact-only\n"
     ]
    },
    {
     "name": "stderr",
     "output_type": "stream",
     "text": [
      "INFO: Chips seleccionados: ['47-G8']\n",
      "INFO: Desempaquetado stamps_pc/RCS2_0041+0446/0047G8_g_11.fits\n",
      "INFO: Desempaquetado stamps_pc/RCS2_0041+0446/0047G8_r_11.fits\n",
      "INFO: Desempaquetado stamps_pc/RCS2_0041+0446/0047G8_i_11.fits\n",
      "INFO: Desempaquetado stamps_pc/RCS2_0041+0446/0047G8_z_11.fits\n"
     ]
    },
    {
     "name": "stdout",
     "output_type": "stream",
     "text": [
      "→ python software/makestamps_rcs2.py 15.25 3.21667 2.0 --out stamps_pc/RCS2_0101+0313 --exact-only\n"
     ]
    },
    {
     "name": "stderr",
     "output_type": "stream",
     "text": [
      "INFO: Chips seleccionados: ['47-A7']\n",
      "INFO: Desempaquetado stamps_pc/RCS2_0101+0313/0047A7_g_27.fits\n",
      "INFO: Desempaquetado stamps_pc/RCS2_0101+0313/0047A7_r_27.fits\n",
      "WARNING: No existe header /data/data1/RCS2/HEADERS/0047/0047A7_i_27.hdr\n",
      "ERROR: funpack falló para /data/data1/RCS2/megacam/Patches/0047/0047A7/0047A7_i.fz\n"
     ]
    },
    {
     "name": "stdout",
     "output_type": "stream",
     "text": [
      "Error: can't find or read input file /data/data1/RCS2/megacam/Patches/0047/0047A7/0047A7_i.fz\n",
      "Input and output files are unchanged.\n"
     ]
    },
    {
     "name": "stderr",
     "output_type": "stream",
     "text": [
      "INFO: Desempaquetado stamps_pc/RCS2_0101+0313/0047A7_z_27.fits\n"
     ]
    },
    {
     "name": "stdout",
     "output_type": "stream",
     "text": [
      "→ python software/makestamps_rcs2.py 12.5 5.18333 2.0 --out stamps_pc/RCS2_0050+0511 --exact-only\n"
     ]
    },
    {
     "name": "stderr",
     "output_type": "stream",
     "text": [
      "INFO: Chips seleccionados: ['47-D8']\n",
      "INFO: Desempaquetado stamps_pc/RCS2_0050+0511/0047D8_g_08.fits\n",
      "INFO: Desempaquetado stamps_pc/RCS2_0050+0511/0047D8_r_08.fits\n",
      "INFO: Desempaquetado stamps_pc/RCS2_0050+0511/0047D8_i_08.fits\n",
      "INFO: Desempaquetado stamps_pc/RCS2_0050+0511/0047D8_z_08.fits\n"
     ]
    },
    {
     "name": "stdout",
     "output_type": "stream",
     "text": [
      "→ python software/makestamps_rcs2.py 15.25 -3.16667 2.0 --out stamps_pc/RCS2_0101-0310 --exact-only\n"
     ]
    },
    {
     "name": "stderr",
     "output_type": "stream",
     "text": [
      "INFO: Chips seleccionados: ['47-A0']\n",
      "INFO: Desempaquetado stamps_pc/RCS2_0101-0310/0047A0_g_18.fits\n",
      "INFO: Desempaquetado stamps_pc/RCS2_0101-0310/0047A0_r_18.fits\n",
      "INFO: Desempaquetado stamps_pc/RCS2_0101-0310/0047A0_i_18.fits\n",
      "INFO: Desempaquetado stamps_pc/RCS2_0101-0310/0047A0_z_18.fits\n"
     ]
    },
    {
     "name": "stdout",
     "output_type": "stream",
     "text": [
      "→ python software/makestamps_rcs2.py 8.5 2.71667 2.0 --out stamps_pc/RCS2_0034+0243 --exact-only\n"
     ]
    },
    {
     "name": "stderr",
     "output_type": "stream",
     "text": [
      "INFO: Chips seleccionados: ['47-H6']\n",
      "INFO: Desempaquetado stamps_pc/RCS2_0034+0243/0047H6_g_27.fits\n",
      "INFO: Desempaquetado stamps_pc/RCS2_0034+0243/0047H6_r_27.fits\n",
      "INFO: Desempaquetado stamps_pc/RCS2_0034+0243/0047H6_i_27.fits\n",
      "INFO: Desempaquetado stamps_pc/RCS2_0034+0243/0047H6_z_27.fits\n"
     ]
    },
    {
     "name": "stdout",
     "output_type": "stream",
     "text": [
      "→ python software/makestamps_rcs2.py 14.25 3.15 2.0 --out stamps_pc/RCS2_0057+0309 --exact-only\n"
     ]
    },
    {
     "name": "stderr",
     "output_type": "stream",
     "text": [
      "ERROR: No se encontraron chips para esa posición / tamaño\n"
     ]
    },
    {
     "name": "stdout",
     "output_type": "stream",
     "text": [
      "→ python software/makestamps_rcs2.py 25.5 0.75 2.0 --out stamps_pc/RCS2_0142+0045 --exact-only\n"
     ]
    },
    {
     "name": "stderr",
     "output_type": "stream",
     "text": [
      "INFO: Chips seleccionados: ['133-A3']\n",
      "INFO: Desempaquetado stamps_pc/RCS2_0142+0045/0133A3_g_07.fits\n",
      "INFO: Desempaquetado stamps_pc/RCS2_0142+0045/0133A3_r_07.fits\n",
      "INFO: Desempaquetado stamps_pc/RCS2_0142+0045/0133A3_i_07.fits\n",
      "INFO: Desempaquetado stamps_pc/RCS2_0142+0045/0133A3_z_07.fits\n"
     ]
    },
    {
     "name": "stdout",
     "output_type": "stream",
     "text": [
      "→ python software/makestamps_rcs2.py 21.5 -2.41667 2.0 --out stamps_pc/RCS2_0126-0225 --exact-only\n"
     ]
    },
    {
     "name": "stderr",
     "output_type": "stream",
     "text": [
      "INFO: Chips seleccionados: ['133-E0']\n",
      "INFO: Desempaquetado stamps_pc/RCS2_0126-0225/0133E0_g_17.fits\n",
      "INFO: Desempaquetado stamps_pc/RCS2_0126-0225/0133E0_r_17.fits\n",
      "WARNING: No existe header /data/data1/RCS2/HEADERS/0133/0133E0_i_17.hdr\n",
      "ERROR: funpack falló para /data/data1/RCS2/megacam/Patches/0133/0133E0/0133E0_i.fz\n"
     ]
    },
    {
     "name": "stdout",
     "output_type": "stream",
     "text": [
      "Error: can't find or read input file /data/data1/RCS2/megacam/Patches/0133/0133E0/0133E0_i.fz\n",
      "Input and output files are unchanged.\n"
     ]
    },
    {
     "name": "stderr",
     "output_type": "stream",
     "text": [
      "INFO: Desempaquetado stamps_pc/RCS2_0126-0225/0133E0_z_17.fits\n"
     ]
    },
    {
     "name": "stdout",
     "output_type": "stream",
     "text": [
      "→ python software/makestamps_rcs2.py 44.0 -12.95 2.0 --out stamps_pc/RCS2_0256-1257 --exact-only\n"
     ]
    },
    {
     "name": "stderr",
     "output_type": "stream",
     "text": [
      "INFO: Chips seleccionados: ['310-I5']\n",
      "INFO: Desempaquetado stamps_pc/RCS2_0256-1257/0310I5_g_02.fits\n",
      "INFO: Desempaquetado stamps_pc/RCS2_0256-1257/0310I5_r_02.fits\n",
      "INFO: Desempaquetado stamps_pc/RCS2_0256-1257/0310I5_i_02.fits\n",
      "INFO: Desempaquetado stamps_pc/RCS2_0256-1257/0310I5_z_02.fits\n"
     ]
    },
    {
     "name": "stdout",
     "output_type": "stream",
     "text": [
      "→ python software/makestamps_rcs2.py 43.0 -13.46667 2.0 --out stamps_pc/RCS2_0252-1328 --exact-only\n"
     ]
    },
    {
     "name": "stderr",
     "output_type": "stream",
     "text": [
      "ERROR: No se encontraron chips para esa posición / tamaño\n"
     ]
    },
    {
     "name": "stdout",
     "output_type": "stream",
     "text": [
      "→ python software/makestamps_rcs2.py 43.75 -14.85 2.0 --out stamps_pc/RCS2_0255-1451 --exact-only\n"
     ]
    },
    {
     "name": "stderr",
     "output_type": "stream",
     "text": [
      "INFO: Chips seleccionados: ['310-I3']\n",
      "INFO: Desempaquetado stamps_pc/RCS2_0255-1451/0310I3_g_04.fits\n",
      "INFO: Desempaquetado stamps_pc/RCS2_0255-1451/0310I3_r_04.fits\n",
      "INFO: Desempaquetado stamps_pc/RCS2_0255-1451/0310I3_i_04.fits\n",
      "INFO: Desempaquetado stamps_pc/RCS2_0255-1451/0310I3_z_04.fits\n"
     ]
    },
    {
     "name": "stdout",
     "output_type": "stream",
     "text": [
      "→ python software/makestamps_rcs2.py 57.5 -7.16667 2.0 --out stamps_pc/RCS2_0350-0710 --exact-only\n"
     ]
    },
    {
     "name": "stderr",
     "output_type": "stream",
     "text": [
      "INFO: Chips seleccionados: ['357-E4']\n",
      "INFO: Desempaquetado stamps_pc/RCS2_0350-0710/0357E4_g_17.fits\n",
      "INFO: Desempaquetado stamps_pc/RCS2_0350-0710/0357E4_r_17.fits\n",
      "INFO: Desempaquetado stamps_pc/RCS2_0350-0710/0357E4_i_17.fits\n",
      "INFO: Desempaquetado stamps_pc/RCS2_0350-0710/0357E4_z_17.fits\n"
     ]
    },
    {
     "name": "stdout",
     "output_type": "stream",
     "text": [
      "→ python software/makestamps_rcs2.py 56.5 -8.9 2.0 --out stamps_pc/RCS2_0346-0854 --exact-only\n"
     ]
    },
    {
     "name": "stderr",
     "output_type": "stream",
     "text": [
      "INFO: Chips seleccionados: ['357-F2']\n",
      "INFO: Desempaquetado stamps_pc/RCS2_0346-0854/0357F2_g_08.fits\n",
      "INFO: Desempaquetado stamps_pc/RCS2_0346-0854/0357F2_r_08.fits\n",
      "WARNING: No existe header /data/data1/RCS2/HEADERS/0357/0357F2_i_08.hdr\n",
      "ERROR: funpack falló para /data/data1/RCS2/megacam/Patches/0357/0357F2/0357F2_i.fz\n"
     ]
    },
    {
     "name": "stdout",
     "output_type": "stream",
     "text": [
      "Error: can't find or read input file /data/data1/RCS2/megacam/Patches/0357/0357F2/0357F2_i.fz\n",
      "Input and output files are unchanged.\n"
     ]
    },
    {
     "name": "stderr",
     "output_type": "stream",
     "text": [
      "INFO: Desempaquetado stamps_pc/RCS2_0346-0854/0357F2_z_08.fits\n"
     ]
    },
    {
     "name": "stdout",
     "output_type": "stream",
     "text": [
      "→ python software/makestamps_rcs2.py 158.0 60.3 2.0 --out stamps_pc/RCS2_1032+6018 --exact-only\n"
     ]
    },
    {
     "name": "stderr",
     "output_type": "stream",
     "text": [
      "INFO: Chips seleccionados: ['1040-E5']\n",
      "INFO: Desempaquetado stamps_pc/RCS2_1032+6018/1040E5_g_11.fits\n",
      "INFO: Desempaquetado stamps_pc/RCS2_1032+6018/1040E5_r_11.fits\n",
      "INFO: Desempaquetado stamps_pc/RCS2_1032+6018/1040E5_i_11.fits\n",
      "INFO: Desempaquetado stamps_pc/RCS2_1032+6018/1040E5_z_11.fits\n"
     ]
    },
    {
     "name": "stdout",
     "output_type": "stream",
     "text": [
      "→ python software/makestamps_rcs2.py 156.0 58.38333 2.0 --out stamps_pc/RCS2_1024+5823 --exact-only\n"
     ]
    },
    {
     "name": "stderr",
     "output_type": "stream",
     "text": [
      "ERROR: No se encontraron chips para esa posición / tamaño\n"
     ]
    },
    {
     "name": "stdout",
     "output_type": "stream",
     "text": [
      "→ python software/makestamps_rcs2.py 154.5 59.98333 2.0 --out stamps_pc/RCS2_1018+5959 --exact-only\n"
     ]
    },
    {
     "name": "stderr",
     "output_type": "stream",
     "text": [
      "INFO: Chips seleccionados: ['1040-F5']\n",
      "INFO: Desempaquetado stamps_pc/RCS2_1018+5959/1040F5_g_27.fits\n",
      "INFO: Desempaquetado stamps_pc/RCS2_1018+5959/1040F5_r_27.fits\n",
      "INFO: Desempaquetado stamps_pc/RCS2_1018+5959/1040F5_i_27.fits\n",
      "INFO: Desempaquetado stamps_pc/RCS2_1018+5959/1040F5_z_27.fits\n"
     ]
    },
    {
     "name": "stdout",
     "output_type": "stream",
     "text": [
      "→ python software/makestamps_rcs2.py 160.5 58.51667 2.0 --out stamps_pc/RCS2_1042+5831 --exact-only\n"
     ]
    },
    {
     "name": "stderr",
     "output_type": "stream",
     "text": [
      "ERROR: No se encontraron chips para esa posición / tamaño\n"
     ]
    },
    {
     "name": "stdout",
     "output_type": "stream",
     "text": [
      "→ python software/makestamps_rcs2.py 156.0 58.48333 2.0 --out stamps_pc/RCS2_1024+5829 --exact-only\n"
     ]
    },
    {
     "name": "stderr",
     "output_type": "stream",
     "text": [
      "ERROR: No se encontraron chips para esa posición / tamaño\n"
     ]
    },
    {
     "name": "stdout",
     "output_type": "stream",
     "text": [
      "→ python software/makestamps_rcs2.py 165.25 57.41667 2.0 --out stamps_pc/RCS2_1101+5725 --exact-only\n"
     ]
    },
    {
     "name": "stderr",
     "output_type": "stream",
     "text": [
      "INFO: Chips seleccionados: ['1040-A2']\n",
      "INFO: Desempaquetado stamps_pc/RCS2_1101+5725/1040A2_g_11.fits\n",
      "INFO: Desempaquetado stamps_pc/RCS2_1101+5725/1040A2_r_11.fits\n",
      "INFO: Desempaquetado stamps_pc/RCS2_1101+5725/1040A2_i_11.fits\n",
      "INFO: Desempaquetado stamps_pc/RCS2_1101+5725/1040A2_z_11.fits\n"
     ]
    },
    {
     "name": "stdout",
     "output_type": "stream",
     "text": [
      "→ python software/makestamps_rcs2.py 167.25 -9.2 2.0 --out stamps_pc/RCS2_1109-0912 --exact-only\n"
     ]
    },
    {
     "name": "stderr",
     "output_type": "stream",
     "text": [
      "INFO: Chips seleccionados: ['1111-F0']\n",
      "INFO: Desempaquetado stamps_pc/RCS2_1109-0912/1111F0_g_03.fits\n",
      "INFO: Desempaquetado stamps_pc/RCS2_1109-0912/1111F0_r_03.fits\n",
      "INFO: Desempaquetado stamps_pc/RCS2_1109-0912/1111F0_i_03.fits\n",
      "INFO: Desempaquetado stamps_pc/RCS2_1109-0912/1111F0_z_03.fits\n"
     ]
    },
    {
     "name": "stdout",
     "output_type": "stream",
     "text": [
      "→ python software/makestamps_rcs2.py 164.25 -8.26667 2.0 --out stamps_pc/RCS2_1057-0816 --exact-only\n"
     ]
    },
    {
     "name": "stderr",
     "output_type": "stream",
     "text": [
      "INFO: Chips seleccionados: ['1111-I1']\n",
      "INFO: Desempaquetado stamps_pc/RCS2_1057-0816/1111I1_g_04.fits\n",
      "INFO: Desempaquetado stamps_pc/RCS2_1057-0816/1111I1_r_04.fits\n",
      "INFO: Desempaquetado stamps_pc/RCS2_1057-0816/1111I1_i_04.fits\n",
      "INFO: Desempaquetado stamps_pc/RCS2_1057-0816/1111I1_z_04.fits\n"
     ]
    },
    {
     "name": "stdout",
     "output_type": "stream",
     "text": [
      "→ python software/makestamps_rcs2.py 165.75 -5.43333 2.0 --out stamps_pc/RCS2_1103-0526 --exact-only\n"
     ]
    },
    {
     "name": "stderr",
     "output_type": "stream",
     "text": [
      "INFO: Chips seleccionados: ['1111-G4']\n",
      "INFO: Desempaquetado stamps_pc/RCS2_1103-0526/1111G4_g_08.fits\n",
      "INFO: Desempaquetado stamps_pc/RCS2_1103-0526/1111G4_r_08.fits\n",
      "WARNING: No existe header /data/data1/RCS2/HEADERS/1111/1111G4_i_08.hdr\n",
      "ERROR: funpack falló para /data/data1/RCS2/megacam/Patches/1111/1111G4/1111G4_i.fz\n"
     ]
    },
    {
     "name": "stdout",
     "output_type": "stream",
     "text": [
      "Error: can't find or read input file /data/data1/RCS2/megacam/Patches/1111/1111G4/1111G4_i.fz\n",
      "Input and output files are unchanged.\n"
     ]
    },
    {
     "name": "stderr",
     "output_type": "stream",
     "text": [
      "INFO: Desempaquetado stamps_pc/RCS2_1103-0526/1111G4_z_08.fits\n"
     ]
    },
    {
     "name": "stdout",
     "output_type": "stream",
     "text": [
      "→ python software/makestamps_rcs2.py 165.25 -6.03333 2.0 --out stamps_pc/RCS2_1101-0602 --exact-only\n"
     ]
    },
    {
     "name": "stderr",
     "output_type": "stream",
     "text": [
      "INFO: Chips seleccionados: ['1111-H4']\n",
      "INFO: Desempaquetado stamps_pc/RCS2_1101-0602/1111H4_g_22.fits\n",
      "INFO: Desempaquetado stamps_pc/RCS2_1101-0602/1111H4_r_22.fits\n",
      "WARNING: No existe header /data/data1/RCS2/HEADERS/1111/1111H4_i_22.hdr\n",
      "ERROR: funpack falló para /data/data1/RCS2/megacam/Patches/1111/1111H4/1111H4_i.fz\n"
     ]
    },
    {
     "name": "stdout",
     "output_type": "stream",
     "text": [
      "Error: can't find or read input file /data/data1/RCS2/megacam/Patches/1111/1111H4/1111H4_i.fz\n",
      "Input and output files are unchanged.\n"
     ]
    },
    {
     "name": "stderr",
     "output_type": "stream",
     "text": [
      "INFO: Desempaquetado stamps_pc/RCS2_1101-0602/1111H4_z_22.fits\n"
     ]
    },
    {
     "name": "stdout",
     "output_type": "stream",
     "text": [
      "→ python software/makestamps_rcs2.py 192.5 2.33333 2.0 --out stamps_pc/RCS2_1250+0220 --exact-only\n"
     ]
    },
    {
     "name": "stderr",
     "output_type": "stream",
     "text": [
      "INFO: Chips seleccionados: ['1303-I8']\n",
      "INFO: Desempaquetado stamps_pc/RCS2_1250+0220/1303I8_g_19.fits\n",
      "INFO: Desempaquetado stamps_pc/RCS2_1250+0220/1303I8_r_19.fits\n",
      "INFO: Desempaquetado stamps_pc/RCS2_1250+0220/1303I8_i_19.fits\n",
      "INFO: Desempaquetado stamps_pc/RCS2_1250+0220/1303I8_z_19.fits\n"
     ]
    },
    {
     "name": "stdout",
     "output_type": "stream",
     "text": [
      "→ python software/makestamps_rcs2.py 193.0 2.85 2.0 --out stamps_pc/RCS2_1252+0251 --exact-only\n"
     ]
    },
    {
     "name": "stderr",
     "output_type": "stream",
     "text": [
      "INFO: Chips seleccionados: ['1303-H8']\n",
      "INFO: Desempaquetado stamps_pc/RCS2_1252+0251/1303H8_g_05.fits\n",
      "INFO: Desempaquetado stamps_pc/RCS2_1252+0251/1303H8_r_05.fits\n",
      "INFO: Desempaquetado stamps_pc/RCS2_1252+0251/1303H8_i_05.fits\n",
      "INFO: Desempaquetado stamps_pc/RCS2_1252+0251/1303H8_z_05.fits\n"
     ]
    },
    {
     "name": "stdout",
     "output_type": "stream",
     "text": [
      "→ python software/makestamps_rcs2.py 227.75 6.7 2.0 --out stamps_pc/RCS2_1511+0642 --exact-only\n"
     ]
    },
    {
     "name": "stderr",
     "output_type": "stream",
     "text": [
      "INFO: Chips seleccionados: ['1514-F1']\n",
      "INFO: Desempaquetado stamps_pc/RCS2_1511+0642/1514F1_g_31.fits\n",
      "INFO: Desempaquetado stamps_pc/RCS2_1511+0642/1514F1_r_31.fits\n",
      "INFO: Desempaquetado stamps_pc/RCS2_1511+0642/1514F1_i_31.fits\n",
      "INFO: Desempaquetado stamps_pc/RCS2_1511+0642/1514F1_z_31.fits\n"
     ]
    },
    {
     "name": "stdout",
     "output_type": "stream",
     "text": [
      "→ python software/makestamps_rcs2.py 229.0 11.3 2.0 --out stamps_pc/RCS2_1516+1118 --exact-only\n"
     ]
    },
    {
     "name": "stderr",
     "output_type": "stream",
     "text": [
      "INFO: Chips seleccionados: ['1514-E6']\n",
      "INFO: Desempaquetado stamps_pc/RCS2_1516+1118/1514E6_g_29.fits\n",
      "INFO: Desempaquetado stamps_pc/RCS2_1516+1118/1514E6_r_29.fits\n",
      "WARNING: No existe header /data/data1/RCS2/HEADERS/1514/1514E6_i_29.hdr\n",
      "ERROR: funpack falló para /data/data1/RCS2/megacam/Patches/1514/1514E6/1514E6_i.fz\n"
     ]
    },
    {
     "name": "stdout",
     "output_type": "stream",
     "text": [
      "Error: can't find or read input file /data/data1/RCS2/megacam/Patches/1514/1514E6/1514E6_i.fz\n",
      "Input and output files are unchanged.\n"
     ]
    },
    {
     "name": "stderr",
     "output_type": "stream",
     "text": [
      "INFO: Desempaquetado stamps_pc/RCS2_1516+1118/1514E6_z_29.fits\n"
     ]
    },
    {
     "name": "stdout",
     "output_type": "stream",
     "text": [
      "→ python software/makestamps_rcs2.py 225.25 9.95 2.0 --out stamps_pc/RCS2_1501+0957 --exact-only\n"
     ]
    },
    {
     "name": "stderr",
     "output_type": "stream",
     "text": [
      "INFO: Chips seleccionados: ['1514-H4']\n",
      "INFO: Desempaquetado stamps_pc/RCS2_1501+0957/1514H4_g_27.fits\n",
      "INFO: Desempaquetado stamps_pc/RCS2_1501+0957/1514H4_r_27.fits\n",
      "INFO: Desempaquetado stamps_pc/RCS2_1501+0957/1514H4_i_27.fits\n",
      "INFO: Desempaquetado stamps_pc/RCS2_1501+0957/1514H4_z_27.fits\n"
     ]
    },
    {
     "name": "stdout",
     "output_type": "stream",
     "text": [
      "→ python software/makestamps_rcs2.py 224.75 10.81667 2.0 --out stamps_pc/RCS2_1459+1049 --exact-only\n"
     ]
    },
    {
     "name": "stderr",
     "output_type": "stream",
     "text": [
      "INFO: Chips seleccionados: ['1514-I5']\n",
      "INFO: Desempaquetado stamps_pc/RCS2_1459+1049/1514I5_g_23.fits\n",
      "INFO: Desempaquetado stamps_pc/RCS2_1459+1049/1514I5_r_23.fits\n",
      "WARNING: No existe header /data/data1/RCS2/HEADERS/1514/1514I5_i_23.hdr\n",
      "ERROR: funpack falló para /data/data1/RCS2/megacam/Patches/1514/1514I5/1514I5_i.fz\n"
     ]
    },
    {
     "name": "stdout",
     "output_type": "stream",
     "text": [
      "Error: can't find or read input file /data/data1/RCS2/megacam/Patches/1514/1514I5/1514I5_i.fz\n",
      "Input and output files are unchanged.\n"
     ]
    },
    {
     "name": "stderr",
     "output_type": "stream",
     "text": [
      "INFO: Desempaquetado stamps_pc/RCS2_1459+1049/1514I5_z_23.fits\n"
     ]
    },
    {
     "name": "stdout",
     "output_type": "stream",
     "text": [
      "→ python software/makestamps_rcs2.py 230.5 6.66667 2.0 --out stamps_pc/RCS2_1522+0640 --exact-only\n"
     ]
    },
    {
     "name": "stderr",
     "output_type": "stream",
     "text": [
      "INFO: Chips seleccionados: ['1514-C1']\n",
      "INFO: Desempaquetado stamps_pc/RCS2_1522+0640/1514C1_g_33.fits\n",
      "INFO: Desempaquetado stamps_pc/RCS2_1522+0640/1514C1_r_33.fits\n",
      "INFO: Desempaquetado stamps_pc/RCS2_1522+0640/1514C1_i_33.fits\n",
      "INFO: Desempaquetado stamps_pc/RCS2_1522+0640/1514C1_z_33.fits\n"
     ]
    },
    {
     "name": "stdout",
     "output_type": "stream",
     "text": [
      "→ python software/makestamps_rcs2.py 329.5 2.95 2.0 --out stamps_pc/RCS2_2158+0257 --exact-only\n"
     ]
    },
    {
     "name": "stderr",
     "output_type": "stream",
     "text": [
      "INFO: Chips seleccionados: ['2143-A8']\n",
      "INFO: Desempaquetado stamps_pc/RCS2_2158+0257/2143A8_g_33.fits\n",
      "INFO: Desempaquetado stamps_pc/RCS2_2158+0257/2143A8_r_33.fits\n",
      "INFO: Desempaquetado stamps_pc/RCS2_2158+0257/2143A8_i_33.fits\n",
      "INFO: Desempaquetado stamps_pc/RCS2_2158+0257/2143A8_z_33.fits\n"
     ]
    },
    {
     "name": "stdout",
     "output_type": "stream",
     "text": [
      "→ python software/makestamps_rcs2.py 325.5 2.11667 2.0 --out stamps_pc/RCS2_2142+0207 --exact-only\n"
     ]
    },
    {
     "name": "stderr",
     "output_type": "stream",
     "text": [
      "INFO: Chips seleccionados: ['2143-E7']\n",
      "INFO: Desempaquetado stamps_pc/RCS2_2142+0207/2143E7_g_25.fits\n",
      "INFO: Desempaquetado stamps_pc/RCS2_2142+0207/2143E7_r_25.fits\n",
      "INFO: Desempaquetado stamps_pc/RCS2_2142+0207/2143E7_i_25.fits\n",
      "INFO: Desempaquetado stamps_pc/RCS2_2142+0207/2143E7_z_25.fits\n"
     ]
    },
    {
     "name": "stdout",
     "output_type": "stream",
     "text": [
      "→ python software/makestamps_rcs2.py 324.0 -0.93333 2.0 --out stamps_pc/RCS2_2136-0056 --exact-only\n"
     ]
    },
    {
     "name": "stderr",
     "output_type": "stream",
     "text": [
      "INFO: Chips seleccionados: ['2143-G4']\n",
      "INFO: Desempaquetado stamps_pc/RCS2_2136-0056/2143G4_g_31.fits\n",
      "INFO: Desempaquetado stamps_pc/RCS2_2136-0056/2143G4_r_31.fits\n",
      "INFO: Desempaquetado stamps_pc/RCS2_2136-0056/2143G4_i_31.fits\n",
      "INFO: Desempaquetado stamps_pc/RCS2_2136-0056/2143G4_z_31.fits\n"
     ]
    },
    {
     "name": "stdout",
     "output_type": "stream",
     "text": [
      "→ python software/makestamps_rcs2.py 321.25 -0.9 2.0 --out stamps_pc/RCS2_2125-0054 --exact-only\n"
     ]
    },
    {
     "name": "stderr",
     "output_type": "stream",
     "text": [
      "INFO: Chips seleccionados: ['2143-J4']\n",
      "INFO: Desempaquetado stamps_pc/RCS2_2125-0054/2143J4_g_29.fits\n",
      "INFO: Desempaquetado stamps_pc/RCS2_2125-0054/2143J4_r_29.fits\n",
      "INFO: Desempaquetado stamps_pc/RCS2_2125-0054/2143J4_i_29.fits\n",
      "INFO: Desempaquetado stamps_pc/RCS2_2125-0054/2143J4_z_29.fits\n"
     ]
    },
    {
     "name": "stdout",
     "output_type": "stream",
     "text": [
      "→ python software/makestamps_rcs2.py 324.5 -2.3 2.0 --out stamps_pc/RCS2_2138-0218 --exact-only\n"
     ]
    },
    {
     "name": "stderr",
     "output_type": "stream",
     "text": [
      "INFO: Chips seleccionados: ['2143-F2']\n",
      "INFO: Desempaquetado stamps_pc/RCS2_2138-0218/2143F2_g_17.fits\n",
      "INFO: Desempaquetado stamps_pc/RCS2_2138-0218/2143F2_r_17.fits\n",
      "INFO: Desempaquetado stamps_pc/RCS2_2138-0218/2143F2_i_17.fits\n",
      "INFO: Desempaquetado stamps_pc/RCS2_2138-0218/2143F2_z_17.fits\n"
     ]
    },
    {
     "name": "stdout",
     "output_type": "stream",
     "text": [
      "→ python software/makestamps_rcs2.py 348.25 -2.41667 2.0 --out stamps_pc/RCS2_2313-0225 --exact-only\n"
     ]
    },
    {
     "name": "stderr",
     "output_type": "stream",
     "text": [
      "INFO: Chips seleccionados: ['2329-H1']\n",
      "INFO: Desempaquetado stamps_pc/RCS2_2313-0225/2329H1_g_04.fits\n",
      "INFO: Desempaquetado stamps_pc/RCS2_2313-0225/2329H1_r_04.fits\n",
      "INFO: Desempaquetado stamps_pc/RCS2_2313-0225/2329H1_i_04.fits\n",
      "INFO: Desempaquetado stamps_pc/RCS2_2313-0225/2329H1_z_04.fits\n"
     ]
    },
    {
     "name": "stdout",
     "output_type": "stream",
     "text": [
      "→ python software/makestamps_rcs2.py 352.0 -3.2 2.0 --out stamps_pc/RCS2_2328-0312 --exact-only\n"
     ]
    },
    {
     "name": "stderr",
     "output_type": "stream",
     "text": [
      "INFO: Chips seleccionados: ['2329-D1']\n",
      "INFO: Desempaquetado stamps_pc/RCS2_2328-0312/2329D1_g_32.fits\n",
      "INFO: Desempaquetado stamps_pc/RCS2_2328-0312/2329D1_r_32.fits\n",
      "INFO: Desempaquetado stamps_pc/RCS2_2328-0312/2329D1_i_32.fits\n",
      "INFO: Desempaquetado stamps_pc/RCS2_2328-0312/2329D1_z_32.fits\n"
     ]
    },
    {
     "name": "stdout",
     "output_type": "stream",
     "text": [
      "→ python software/makestamps_rcs2.py 353.0 -2.16667 2.0 --out stamps_pc/RCS2_2332-0210 --exact-only\n"
     ]
    },
    {
     "name": "stderr",
     "output_type": "stream",
     "text": [
      "INFO: Chips seleccionados: ['2329-C2']\n",
      "INFO: Desempaquetado stamps_pc/RCS2_2332-0210/2329C2_g_32.fits\n",
      "INFO: Desempaquetado stamps_pc/RCS2_2332-0210/2329C2_r_32.fits\n",
      "INFO: Desempaquetado stamps_pc/RCS2_2332-0210/2329C2_i_32.fits\n",
      "INFO: Desempaquetado stamps_pc/RCS2_2332-0210/2329C2_z_32.fits\n"
     ]
    },
    {
     "name": "stdout",
     "output_type": "stream",
     "text": [
      "→ python software/makestamps_rcs2.py 353.25 -3.91667 2.0 --out stamps_pc/RCS2_2333-0355 --exact-only\n"
     ]
    },
    {
     "name": "stderr",
     "output_type": "stream",
     "text": [
      "INFO: Chips seleccionados: ['2329-C0']\n",
      "INFO: Desempaquetado stamps_pc/RCS2_2333-0355/2329C0_g_21.fits\n",
      "INFO: Desempaquetado stamps_pc/RCS2_2333-0355/2329C0_r_21.fits\n",
      "INFO: Desempaquetado stamps_pc/RCS2_2333-0355/2329C0_i_21.fits\n",
      "INFO: Desempaquetado stamps_pc/RCS2_2333-0355/2329C0_z_21.fits\n"
     ]
    },
    {
     "name": "stdout",
     "output_type": "stream",
     "text": [
      "→ python software/makestamps_rcs2.py 351.75 -10.48333 2.0 --out stamps_pc/RCS2_2327-1029 --exact-only\n"
     ]
    },
    {
     "name": "stderr",
     "output_type": "stream",
     "text": [
      "INFO: Chips seleccionados: ['2338-H3']\n",
      "INFO: Desempaquetado stamps_pc/RCS2_2327-1029/2338H3_g_32.fits\n",
      "INFO: Desempaquetado stamps_pc/RCS2_2327-1029/2338H3_r_32.fits\n",
      "INFO: Desempaquetado stamps_pc/RCS2_2327-1029/2338H3_i_32.fits\n",
      "INFO: Desempaquetado stamps_pc/RCS2_2327-1029/2338H3_z_32.fits\n"
     ]
    },
    {
     "name": "stdout",
     "output_type": "stream",
     "text": [
      "→ python software/makestamps_rcs2.py 354.25 -6.91667 2.0 --out stamps_pc/RCS2_2337-0655 --exact-only\n"
     ]
    },
    {
     "name": "stderr",
     "output_type": "stream",
     "text": [
      "INFO: Chips seleccionados: ['2338-E6']\n",
      "INFO: Desempaquetado stamps_pc/RCS2_2337-0655/2338E6_g_08.fits\n",
      "INFO: Desempaquetado stamps_pc/RCS2_2337-0655/2338E6_r_08.fits\n",
      "WARNING: No existe header /data/data1/RCS2/HEADERS/2338/2338E6_i_08.hdr\n",
      "ERROR: funpack falló para /data/data1/RCS2/megacam/Patches/2338/2338E6/2338E6_i.fz\n"
     ]
    },
    {
     "name": "stdout",
     "output_type": "stream",
     "text": [
      "Error: can't find or read input file /data/data1/RCS2/megacam/Patches/2338/2338E6/2338E6_i.fz\n",
      "Input and output files are unchanged.\n"
     ]
    },
    {
     "name": "stderr",
     "output_type": "stream",
     "text": [
      "INFO: Desempaquetado stamps_pc/RCS2_2337-0655/2338E6_z_08.fits\n"
     ]
    },
    {
     "name": "stdout",
     "output_type": "stream",
     "text": [
      "→ python software/makestamps_rcs2.py 354.75 -8.98333 2.0 --out stamps_pc/RCS2_2339-0859 --exact-only\n"
     ]
    },
    {
     "name": "stderr",
     "output_type": "stream",
     "text": [
      "INFO: Chips seleccionados: ['2338-E4']\n",
      "INFO: Desempaquetado stamps_pc/RCS2_2339-0859/2338E4_g_13.fits\n",
      "INFO: Desempaquetado stamps_pc/RCS2_2339-0859/2338E4_r_13.fits\n",
      "WARNING: No existe header /data/data1/RCS2/HEADERS/2338/2338E4_i_13.hdr\n",
      "ERROR: funpack falló para /data/data1/RCS2/megacam/Patches/2338/2338E4/2338E4_i.fz\n"
     ]
    },
    {
     "name": "stdout",
     "output_type": "stream",
     "text": [
      "Error: can't find or read input file /data/data1/RCS2/megacam/Patches/2338/2338E4/2338E4_i.fz\n",
      "Input and output files are unchanged.\n"
     ]
    },
    {
     "name": "stderr",
     "output_type": "stream",
     "text": [
      "INFO: Desempaquetado stamps_pc/RCS2_2339-0859/2338E4_z_13.fits\n"
     ]
    },
    {
     "name": "stdout",
     "output_type": "stream",
     "text": [
      "→ python software/makestamps_rcs2.py 356.5 -9.41667 2.0 --out stamps_pc/RCS2_2346-0925 --exact-only\n"
     ]
    },
    {
     "name": "stderr",
     "output_type": "stream",
     "text": [
      "INFO: Chips seleccionados: ['2338-C4']\n",
      "INFO: Desempaquetado stamps_pc/RCS2_2346-0925/2338C4_g_33.fits\n",
      "INFO: Desempaquetado stamps_pc/RCS2_2346-0925/2338C4_r_33.fits\n",
      "WARNING: No existe header /data/data1/RCS2/HEADERS/2338/2338C4_i_33.hdr\n",
      "ERROR: funpack falló para /data/data1/RCS2/megacam/Patches/2338/2338C4/2338C4_i.fz\n"
     ]
    },
    {
     "name": "stdout",
     "output_type": "stream",
     "text": [
      "Error: can't find or read input file /data/data1/RCS2/megacam/Patches/2338/2338C4/2338C4_i.fz\n",
      "Input and output files are unchanged.\n"
     ]
    },
    {
     "name": "stderr",
     "output_type": "stream",
     "text": [
      "INFO: Desempaquetado stamps_pc/RCS2_2346-0925/2338C4_z_33.fits\n"
     ]
    },
    {
     "name": "stdout",
     "output_type": "stream",
     "text": [
      "→ python software/makestamps_rcs2.py 357.75 -10.2 2.0 --out stamps_pc/RCS2_2351-1012 --exact-only\n"
     ]
    },
    {
     "name": "stderr",
     "output_type": "stream",
     "text": [
      "INFO: Chips seleccionados: ['2338-B3']\n",
      "INFO: Desempaquetado stamps_pc/RCS2_2351-1012/2338B3_g_21.fits\n",
      "INFO: Desempaquetado stamps_pc/RCS2_2351-1012/2338B3_r_21.fits\n",
      "WARNING: No existe header /data/data1/RCS2/HEADERS/2338/2338B3_i_21.hdr\n",
      "ERROR: funpack falló para /data/data1/RCS2/megacam/Patches/2338/2338B3/2338B3_i.fz\n"
     ]
    },
    {
     "name": "stdout",
     "output_type": "stream",
     "text": [
      "Error: can't find or read input file /data/data1/RCS2/megacam/Patches/2338/2338B3/2338B3_i.fz\n",
      "Input and output files are unchanged.\n"
     ]
    },
    {
     "name": "stderr",
     "output_type": "stream",
     "text": [
      "INFO: Desempaquetado stamps_pc/RCS2_2351-1012/2338B3_z_21.fits\n"
     ]
    },
    {
     "name": "stdout",
     "output_type": "stream",
     "text": [
      "→ python software/makestamps_rcs2.py 357.0 -6.21667 2.0 --out stamps_pc/RCS2_2348-0613 --exact-only\n"
     ]
    },
    {
     "name": "stderr",
     "output_type": "stream",
     "text": [
      "INFO: Chips seleccionados: ['2338-C7']\n",
      "INFO: Desempaquetado stamps_pc/RCS2_2348-0613/2338C7_g_10.fits\n",
      "INFO: Desempaquetado stamps_pc/RCS2_2348-0613/2338C7_r_10.fits\n",
      "WARNING: No existe header /data/data1/RCS2/HEADERS/2338/2338C7_i_10.hdr\n",
      "ERROR: funpack falló para /data/data1/RCS2/megacam/Patches/2338/2338C7/2338C7_i.fz\n"
     ]
    },
    {
     "name": "stdout",
     "output_type": "stream",
     "text": [
      "Error: can't find or read input file /data/data1/RCS2/megacam/Patches/2338/2338C7/2338C7_i.fz\n",
      "Input and output files are unchanged.\n"
     ]
    },
    {
     "name": "stderr",
     "output_type": "stream",
     "text": [
      "INFO: Desempaquetado stamps_pc/RCS2_2348-0613/2338C7_z_10.fits\n"
     ]
    }
   ],
   "source": [
    "# ── parámetros globales ───────────────────────────────────────────────────\n",
    "CSV_PATH   = \"pc_candidates.csv\"               # tu archivo CSV\n",
    "SCRIPT     = \"software/makestamps_rcs2.py\"            # ruta al script\n",
    "SIZE_ARCMIN = 2.0                            # tamaño del campo\n",
    "BASE_OUT   = Path(\"stamps_pc\")                  # carpeta raíz de salidas\n",
    "EXTRA_OPTS = [\"--exact-only\"]                # otros flags (añade --log DEBUG si quieres)\n",
    "\n",
    "# ── lee la tabla ──────────────────────────────────────────────────────────\n",
    "df = pd.read_csv(CSV_PATH)\n",
    "\n",
    "# ── crea la carpeta base ──────────────────────────────────────────────────\n",
    "BASE_OUT.mkdir(exist_ok=True)\n",
    "\n",
    "for _, row in df.iterrows():\n",
    "    name = row[\"NAME\"]\n",
    "    ra   = row[\"RA_DEG\"]\n",
    "    dec  = row[\"DEC_DEG\"]\n",
    "\n",
    "    out_dir = BASE_OUT / name         # stamps/RCS2_0032+0100/\n",
    "    out_dir.mkdir(exist_ok=True)\n",
    "\n",
    "    cmd = [\n",
    "        \"python\", SCRIPT,\n",
    "        f\"{ra}\", f\"{dec}\", f\"{SIZE_ARCMIN}\",\n",
    "        \"--out\", str(out_dir),\n",
    "        *EXTRA_OPTS,\n",
    "    ]\n",
    "    print(\"→\", \" \".join(cmd))\n",
    "    subprocess.run(cmd, check=True)\n"
   ]
  },
  {
   "cell_type": "markdown",
   "id": "103254fc",
   "metadata": {},
   "source": [
    "# PHOTOMETRY"
   ]
  },
  {
   "cell_type": "code",
   "execution_count": 8,
   "id": "007cd367",
   "metadata": {},
   "outputs": [],
   "source": [
    "import os\n",
    "import subprocess\n",
    "from astropy.io import fits\n",
    "\n",
    "# 1) definimos ROOT donde están los default.param/.conv/.nnw\n",
    "ROOT = os.getcwd()\n",
    "PARAMS = os.path.join(ROOT, \"default.param\")\n",
    "CONV    = os.path.join(ROOT, \"default.conv\")\n",
    "NNW     = os.path.join(ROOT, \"default.nnw\")\n",
    "\n",
    "def crear_default_sex(fitsfile, outfile, band):\n",
    "    with fits.open(fitsfile) as hdul:\n",
    "        h        = hdul[0].header\n",
    "        gain     = h.get('GAIN')\n",
    "        sat      = h.get('SATURATE')\n",
    "        pixscale = h.get('PIXSCAL1')\n",
    "        zp       = h.get('MAG_ZEROPOINT', h.get('PHOT_C'))\n",
    "\n",
    "    sex_config = f\"\"\"\n",
    "CATALOG_NAME     catalogo_{band}.fits\n",
    "CATALOG_TYPE     FITS_LDAC\n",
    "PARAMETERS_NAME  {PARAMS}\n",
    "\n",
    "DETECT_TYPE      CCD\n",
    "DETECT_MINAREA   5\n",
    "DETECT_THRESH    1.5\n",
    "ANALYSIS_THRESH  1.5\n",
    "\n",
    "FILTER           Y\n",
    "FILTER_NAME      {CONV}\n",
    "DEBLEND_NTHRESH  32\n",
    "DEBLEND_MINCONT  0.005\n",
    "CLEAN            Y\n",
    "CLEAN_PARAM      1.0\n",
    "MASK_TYPE        CORRECT\n",
    "\n",
    "PHOT_APERTURES   2.7\n",
    "PHOT_AUTOPARAMS  2.5,3.5\n",
    "PHOT_PETROPARAMS 2.0,3.5\n",
    "\n",
    "SATUR_LEVEL      {sat}\n",
    "SATUR_KEY        SATURATE\n",
    "MAG_ZEROPOINT    {zp}\n",
    "GAIN             {gain}\n",
    "GAIN_KEY         GAIN\n",
    "PIXEL_SCALE      {pixscale}\n",
    "\n",
    "SEEING_FWHM      1.2\n",
    "STARNNW_NAME     {NNW}\n",
    "\n",
    "BACK_SIZE        64\n",
    "BACK_FILTERSIZE  3\n",
    "BACKPHOTO_TYPE   GLOBAL\n",
    "\n",
    "CHECKIMAGE_TYPE  APERTURES,SEGMENTATION\n",
    "CHECKIMAGE_NAME  apertures_{band}.fits,segmentation_{band}.fits\n",
    "\n",
    "MEMORY_OBJSTACK  3000\n",
    "MEMORY_PIXSTACK  300000\n",
    "MEMORY_BUFSIZE   1024\n",
    "\n",
    "VERBOSE_TYPE     NORMAL\n",
    "HEADER_SUFFIX    .head\n",
    "WRITE_XML        N\n",
    "XML_NAME         sex.xml\n",
    "NTHREADS         1\n",
    "\"\"\"\n",
    "    with open(outfile, \"w\") as f:\n",
    "        f.write(sex_config)\n",
    "\n",
    "def run_crear_default_sex(root=\"stamps_sc\"):\n",
    "    for obj in os.listdir(root):\n",
    "        obj_dir = os.path.join(root, obj)\n",
    "        if not os.path.isdir(obj_dir):\n",
    "            continue\n",
    "\n",
    "        # listamos fits y localizamos band Z\n",
    "        fits_files = [os.path.join(obj_dir,f) for f in os.listdir(obj_dir) if f.endswith(\".fits\")]\n",
    "        z_candidates = [f for f in fits_files if \"_z_\" in os.path.basename(f)]\n",
    "        if not z_candidates:\n",
    "            print(f\"[!] No encuentro Z en {obj_dir}, salto.\")\n",
    "            continue\n",
    "        z_path = z_candidates[0]\n",
    "\n",
    "        for fits_path in fits_files:\n",
    "            band = os.path.basename(fits_path).split(\"_\")[1]\n",
    "            config_path = fits_path.replace(\".fits\", \".sex\")\n",
    "\n",
    "            crear_default_sex(fits_path, config_path, band)\n"
   ]
  },
  {
   "cell_type": "code",
   "execution_count": null,
   "id": "17973f33",
   "metadata": {},
   "outputs": [
    {
     "name": "stdout",
     "output_type": "stream",
     "text": [
      "[RCS2_0032+0100] ejecutando (g): sex 0047I4_z_05.fits 0047I4_g_05.fits -c 0047I4_g_05.sex\n",
      "[RCS2_0032+0100] ejecutando (r): sex 0047I4_z_05.fits 0047I4_r_05.fits -c 0047I4_r_05.sex\n",
      "[RCS2_0032+0100] ejecutando (z): sex 0047I4_z_05.fits -c 0047I4_z_05.sex\n",
      "[RCS2_0102+0007] ejecutando (g): sex 0047A3_z_07.fits 0047A3_g_07.fits -c 0047A3_g_07.sex\n",
      "[RCS2_0102+0007] ejecutando (r): sex 0047A3_z_07.fits 0047A3_r_07.fits -c 0047A3_r_07.sex\n",
      "[RCS2_0102+0007] ejecutando (z): sex 0047A3_z_07.fits -c 0047A3_z_07.sex\n",
      "[RCS2_0136+0008] ejecutando (g): sex 0133C3_z_21.fits 0133C3_g_21.fits -c 0133C3_g_21.sex\n",
      "[RCS2_0136+0008] ejecutando (r): sex 0133C3_z_21.fits 0133C3_r_21.fits -c 0133C3_r_21.sex\n",
      "[RCS2_0136+0008] ejecutando (z): sex 0133C3_z_21.fits -c 0133C3_z_21.sex\n",
      "[RCS2_0140-0056] ejecutando (g): sex 0133B2_z_30.fits 0133B2_g_30.fits -c 0133B2_g_30.sex\n",
      "[RCS2_0140-0056] ejecutando (r): sex 0133B2_z_30.fits 0133B2_r_30.fits -c 0133B2_r_30.sex\n",
      "[RCS2_0140-0056] ejecutando (z): sex 0133B2_z_30.fits -c 0133B2_z_30.sex\n",
      "[RCS2_0355-0559] ejecutando (g): sex 0357D5_z_06.fits 0357D5_g_06.fits -c 0357D5_g_06.sex\n",
      "[RCS2_0355-0559] ejecutando (r): sex 0357D5_z_06.fits 0357D5_r_06.fits -c 0357D5_r_06.sex\n",
      "[RCS2_0355-0559] ejecutando (z): sex 0357D5_z_06.fits -c 0357D5_z_06.sex\n",
      "[RCS2_1032+6018] ejecutando (g): sex 1040E5_z_11.fits 1040E5_g_11.fits -c 1040E5_g_11.sex\n",
      "[RCS2_1032+6018] ejecutando (r): sex 1040E5_z_11.fits 1040E5_r_11.fits -c 1040E5_r_11.sex\n",
      "[RCS2_1032+6018] ejecutando (z): sex 1040E5_z_11.fits -c 1040E5_z_11.sex\n",
      "[RCS2_1459+1023] ejecutando (g): sex 1514I4_z_05.fits 1514I4_g_05.fits -c 1514I4_g_05.sex\n",
      "[RCS2_1459+1023] ejecutando (r): sex 1514I4_z_05.fits 1514I4_r_05.fits -c 1514I4_r_05.sex\n",
      "[RCS2_1459+1023] ejecutando (z): sex 1514I4_z_05.fits -c 1514I4_z_05.sex\n",
      "[RCS2_2126+0006] ejecutando (g): sex 2143I5_z_36.fits 2143I5_g_36.fits -c 2143I5_g_36.sex\n",
      "[RCS2_2126+0006] ejecutando (r): sex 2143I5_z_36.fits 2143I5_r_36.fits -c 2143I5_r_36.sex\n",
      "[RCS2_2126+0006] ejecutando (z): sex 2143I5_z_36.fits -c 2143I5_z_36.sex\n",
      "[RCS2_2149-0012] ejecutando (g): sex 2143C4_z_09.fits 2143C4_g_09.fits -c 2143C4_g_09.sex\n",
      "[RCS2_2149-0012] ejecutando (r): sex 2143C4_z_09.fits 2143C4_r_09.fits -c 2143C4_r_09.sex\n",
      "[RCS2_2149-0012] ejecutando (z): sex 2143C4_z_09.fits -c 2143C4_z_09.sex\n",
      "[RCS2_2312-0019] ejecutando (g): sex 2329H3_z_07.fits 2329H3_g_07.fits -c 2329H3_g_07.sex\n",
      "[RCS2_2312-0019] ejecutando (r): sex 2329H3_z_07.fits 2329H3_r_07.fits -c 2329H3_r_07.sex\n",
      "[RCS2_2312-0019] ejecutando (z): sex 2329H3_z_07.fits -c 2329H3_z_07.sex\n",
      "[RCS2_2325+0037] ejecutando (g): sex 2329E4_z_03.fits 2329E4_g_03.fits -c 2329E4_g_03.sex\n",
      "[RCS2_2325+0037] ejecutando (r): sex 2329E4_z_03.fits 2329E4_r_03.fits -c 2329E4_r_03.sex\n",
      "[RCS2_2325+0037] ejecutando (z): sex 2329E4_z_03.fits -c 2329E4_z_03.sex\n",
      "[RCS2_2326-0022] ejecutando (g): sex 2329E3_z_01.fits 2329E3_g_01.fits -c 2329E3_g_01.sex\n",
      "[RCS2_2326-0022] ejecutando (r): sex 2329E3_z_01.fits 2329E3_r_01.fits -c 2329E3_r_01.sex\n",
      "[RCS2_2326-0022] ejecutando (z): sex 2329E3_z_01.fits -c 2329E3_z_01.sex\n"
     ]
    }
   ],
   "source": [
    "\n",
    "def run_sex_dual_mode(root=\"stamps_sc\"):\n",
    "    \"\"\"\n",
    "    Recorre cada subcarpeta de 'root' buscando .sex.\n",
    "    - Si band == 'i': skip.\n",
    "    - Si band == 'z': sex imagen_z -c config.sex\n",
    "    - Si band in ['g','r']: sex imagen_z imagen_band -c config.sex\n",
    "    Guarda stdout+stderr en sex_<band>.log dentro de la carpeta.\n",
    "    \"\"\"\n",
    "    for obj in os.listdir(root):\n",
    "        obj_dir = os.path.join(root, obj)\n",
    "        if not os.path.isdir(obj_dir):\n",
    "            continue\n",
    "\n",
    "        # recorremos todos los .sex generados previamente\n",
    "        for fname in os.listdir(obj_dir):\n",
    "            if not fname.endswith(\".sex\"):\n",
    "                continue\n",
    "\n",
    "            band = fname.split(\"_\")[1].lower()\n",
    "            if band == \"i\":\n",
    "                # no hacemos nada para la banda i\n",
    "                continue\n",
    "\n",
    "            # nombres relativos dentro de la carpeta de objeto\n",
    "            config_name = fname                          # e.g. \"0047I4_g_05.sex\"\n",
    "            fits_name   = fname.replace(\".sex\", \".fits\")  # \"0047I4_g_05.fits\"\n",
    "\n",
    "            if band == \"z\":\n",
    "                # modo normal\n",
    "                cmd = [\"sex\", fits_name, \"-c\", config_name]\n",
    "            else:\n",
    "                # dual-image mode: primero detect z, luego phot en banda\n",
    "                det_name = fits_name.replace(f\"_{band}_\", \"_z_\")\n",
    "                cmd = [\"sex\", det_name, fits_name, \"-c\", config_name]\n",
    "\n",
    "            # logfile por banda\n",
    "            log_name = f\"sex_{band}.log\"\n",
    "            log_path = os.path.join(obj_dir, log_name)\n",
    "\n",
    "            print(f\"[{obj}] ejecutando ({band}):\", \" \".join(cmd))\n",
    "            with open(log_path, \"w\") as logf:\n",
    "                subprocess.run(\n",
    "                    cmd,\n",
    "                    check=True,\n",
    "                    cwd=obj_dir,               # para que catálogos y check-images se escriban aquí\n",
    "                    stdout=logf,\n",
    "                    stderr=subprocess.STDOUT\n",
    "                )\n",
    "\n",
    "if __name__ == \"__main__\":\n",
    "    run_sex_dual_mode(\"stamps_sc\")"
   ]
  }
 ],
 "metadata": {
  "kernelspec": {
   "display_name": "base",
   "language": "python",
   "name": "python3"
  },
  "language_info": {
   "codemirror_mode": {
    "name": "ipython",
    "version": 3
   },
   "file_extension": ".py",
   "mimetype": "text/x-python",
   "name": "python",
   "nbconvert_exporter": "python",
   "pygments_lexer": "ipython3",
   "version": "3.12.2"
  }
 },
 "nbformat": 4,
 "nbformat_minor": 5
}
