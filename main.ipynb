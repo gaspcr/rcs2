{
 "cells": [
  {
   "cell_type": "code",
   "execution_count": 1,
   "id": "58e9553d",
   "metadata": {},
   "outputs": [],
   "source": [
    "#!/usr/bin/env python\n",
    "\n",
    "import pandas as pd\n",
    "import subprocess, sys\n",
    "from pathlib import Path\n",
    "from astropy.io import fits"
   ]
  },
  {
   "cell_type": "code",
   "execution_count": 4,
   "id": "7360a6f7",
   "metadata": {},
   "outputs": [
    {
     "name": "stdout",
     "output_type": "stream",
     "text": [
      "→ python software/makestamps_rcs2.py 7.999999999999999 1.0 2.0 --out stamps/RCS2_0032+0100 --exact-only\n"
     ]
    },
    {
     "name": "stderr",
     "output_type": "stream",
     "text": [
      "INFO: Chips seleccionados: ['47-I4']\n",
      "INFO: Desempaquetado stamps/RCS2_0032+0100/0047I4_g_05.fits\n",
      "INFO: Desempaquetado stamps/RCS2_0032+0100/0047I4_r_05.fits\n",
      "INFO: Desempaquetado stamps/RCS2_0032+0100/0047I4_i_05.fits\n",
      "INFO: Desempaquetado stamps/RCS2_0032+0100/0047I4_z_05.fits\n"
     ]
    },
    {
     "name": "stdout",
     "output_type": "stream",
     "text": [
      "→ python software/makestamps_rcs2.py 15.5 0.1166666666666666 2.0 --out stamps/RCS2_0102+0007 --exact-only\n"
     ]
    },
    {
     "name": "stderr",
     "output_type": "stream",
     "text": [
      "INFO: Chips seleccionados: ['47-A3']\n",
      "INFO: Desempaquetado stamps/RCS2_0102+0007/0047A3_g_07.fits\n",
      "INFO: Desempaquetado stamps/RCS2_0102+0007/0047A3_r_07.fits\n",
      "INFO: Desempaquetado stamps/RCS2_0102+0007/0047A3_i_07.fits\n",
      "INFO: Desempaquetado stamps/RCS2_0102+0007/0047A3_z_07.fits\n"
     ]
    },
    {
     "name": "stdout",
     "output_type": "stream",
     "text": [
      "→ python software/makestamps_rcs2.py 24.0 0.1333333333333333 2.0 --out stamps/RCS2_0136+0008 --exact-only\n"
     ]
    },
    {
     "name": "stderr",
     "output_type": "stream",
     "text": [
      "INFO: Chips seleccionados: ['133-C3']\n",
      "INFO: Desempaquetado stamps/RCS2_0136+0008/0133C3_g_21.fits\n",
      "INFO: Desempaquetado stamps/RCS2_0136+0008/0133C3_r_21.fits\n",
      "WARNING: No existe header /data/data1/RCS2/HEADERS/0133/0133C3_i_21.hdr\n",
      "ERROR: funpack falló para /data/data1/RCS2/megacam/Patches/0133/0133C3/0133C3_i.fz\n"
     ]
    },
    {
     "name": "stdout",
     "output_type": "stream",
     "text": [
      "Error: can't find or read input file /data/data1/RCS2/megacam/Patches/0133/0133C3/0133C3_i.fz\n",
      "Input and output files are unchanged.\n"
     ]
    },
    {
     "name": "stderr",
     "output_type": "stream",
     "text": [
      "INFO: Desempaquetado stamps/RCS2_0136+0008/0133C3_z_21.fits\n"
     ]
    },
    {
     "name": "stdout",
     "output_type": "stream",
     "text": [
      "→ python software/makestamps_rcs2.py 25.0 -0.9333333333333332 2.0 --out stamps/RCS2_0140-0056 --exact-only\n"
     ]
    },
    {
     "name": "stderr",
     "output_type": "stream",
     "text": [
      "INFO: Chips seleccionados: ['133-B2']\n",
      "INFO: Desempaquetado stamps/RCS2_0140-0056/0133B2_g_30.fits\n",
      "INFO: Desempaquetado stamps/RCS2_0140-0056/0133B2_r_30.fits\n",
      "WARNING: No existe header /data/data1/RCS2/HEADERS/0133/0133B2_i_30.hdr\n",
      "ERROR: funpack falló para /data/data1/RCS2/megacam/Patches/0133/0133B2/0133B2_i.fz\n"
     ]
    },
    {
     "name": "stdout",
     "output_type": "stream",
     "text": [
      "Error: can't find or read input file /data/data1/RCS2/megacam/Patches/0133/0133B2/0133B2_i.fz\n",
      "Input and output files are unchanged.\n"
     ]
    },
    {
     "name": "stderr",
     "output_type": "stream",
     "text": [
      "INFO: Desempaquetado stamps/RCS2_0140-0056/0133B2_z_30.fits\n"
     ]
    },
    {
     "name": "stdout",
     "output_type": "stream",
     "text": [
      "→ python software/makestamps_rcs2.py 58.74999999999999 -5.983333333333333 2.0 --out stamps/RCS2_0355-0559 --exact-only\n"
     ]
    },
    {
     "name": "stderr",
     "output_type": "stream",
     "text": [
      "INFO: Chips seleccionados: ['357-D5']\n",
      "INFO: Desempaquetado stamps/RCS2_0355-0559/0357D5_g_06.fits\n",
      "INFO: Desempaquetado stamps/RCS2_0355-0559/0357D5_r_06.fits\n",
      "INFO: Desempaquetado stamps/RCS2_0355-0559/0357D5_i_06.fits\n",
      "INFO: Desempaquetado stamps/RCS2_0355-0559/0357D5_z_06.fits\n"
     ]
    },
    {
     "name": "stdout",
     "output_type": "stream",
     "text": [
      "→ python software/makestamps_rcs2.py 157.99999999999997 60.3 2.0 --out stamps/RCS2_1032+6018 --exact-only\n"
     ]
    },
    {
     "name": "stderr",
     "output_type": "stream",
     "text": [
      "INFO: Chips seleccionados: ['1040-E5']\n",
      "INFO: Desempaquetado stamps/RCS2_1032+6018/1040E5_g_11.fits\n",
      "INFO: Desempaquetado stamps/RCS2_1032+6018/1040E5_r_11.fits\n",
      "INFO: Desempaquetado stamps/RCS2_1032+6018/1040E5_i_11.fits\n",
      "INFO: Desempaquetado stamps/RCS2_1032+6018/1040E5_z_11.fits\n"
     ]
    },
    {
     "name": "stdout",
     "output_type": "stream",
     "text": [
      "→ python software/makestamps_rcs2.py 224.75 10.383333333333333 2.0 --out stamps/RCS2_1459+1023 --exact-only\n"
     ]
    },
    {
     "name": "stderr",
     "output_type": "stream",
     "text": [
      "INFO: Chips seleccionados: ['1514-I4']\n",
      "INFO: Desempaquetado stamps/RCS2_1459+1023/1514I4_g_05.fits\n",
      "INFO: Desempaquetado stamps/RCS2_1459+1023/1514I4_r_05.fits\n",
      "INFO: Desempaquetado stamps/RCS2_1459+1023/1514I4_i_05.fits\n",
      "INFO: Desempaquetado stamps/RCS2_1459+1023/1514I4_z_05.fits\n"
     ]
    },
    {
     "name": "stdout",
     "output_type": "stream",
     "text": [
      "→ python software/makestamps_rcs2.py 321.49999999999994 0.1 2.0 --out stamps/RCS2_2126+0006 --exact-only\n"
     ]
    },
    {
     "name": "stderr",
     "output_type": "stream",
     "text": [
      "INFO: Chips seleccionados: ['2143-I5']\n",
      "INFO: Desempaquetado stamps/RCS2_2126+0006/2143I5_g_36.fits\n",
      "INFO: Desempaquetado stamps/RCS2_2126+0006/2143I5_r_36.fits\n",
      "INFO: Desempaquetado stamps/RCS2_2126+0006/2143I5_i_36.fits\n",
      "INFO: Desempaquetado stamps/RCS2_2126+0006/2143I5_z_36.fits\n"
     ]
    },
    {
     "name": "stdout",
     "output_type": "stream",
     "text": [
      "→ python software/makestamps_rcs2.py 327.24999999999994 -0.2 2.0 --out stamps/RCS2_2149-0012 --exact-only\n"
     ]
    },
    {
     "name": "stderr",
     "output_type": "stream",
     "text": [
      "INFO: Chips seleccionados: ['2143-C4']\n",
      "INFO: Desempaquetado stamps/RCS2_2149-0012/2143C4_g_09.fits\n",
      "INFO: Desempaquetado stamps/RCS2_2149-0012/2143C4_r_09.fits\n",
      "INFO: Desempaquetado stamps/RCS2_2149-0012/2143C4_i_09.fits\n",
      "INFO: Desempaquetado stamps/RCS2_2149-0012/2143C4_z_09.fits\n"
     ]
    },
    {
     "name": "stdout",
     "output_type": "stream",
     "text": [
      "→ python software/makestamps_rcs2.py 347.99999999999994 -0.3166666666666666 2.0 --out stamps/RCS2_2312-0019 --exact-only\n"
     ]
    },
    {
     "name": "stderr",
     "output_type": "stream",
     "text": [
      "INFO: Chips seleccionados: ['2329-H3']\n",
      "INFO: Desempaquetado stamps/RCS2_2312-0019/2329H3_g_07.fits\n",
      "INFO: Desempaquetado stamps/RCS2_2312-0019/2329H3_r_07.fits\n",
      "INFO: Desempaquetado stamps/RCS2_2312-0019/2329H3_i_07.fits\n",
      "INFO: Desempaquetado stamps/RCS2_2312-0019/2329H3_z_07.fits\n"
     ]
    },
    {
     "name": "stdout",
     "output_type": "stream",
     "text": [
      "→ python software/makestamps_rcs2.py 351.25 0.6166666666666667 2.0 --out stamps/RCS2_2325+0037 --exact-only\n"
     ]
    },
    {
     "name": "stderr",
     "output_type": "stream",
     "text": [
      "INFO: Chips seleccionados: ['2329-E4']\n",
      "INFO: Desempaquetado stamps/RCS2_2325+0037/2329E4_g_03.fits\n",
      "INFO: Desempaquetado stamps/RCS2_2325+0037/2329E4_r_03.fits\n",
      "INFO: Desempaquetado stamps/RCS2_2325+0037/2329E4_i_03.fits\n",
      "INFO: Desempaquetado stamps/RCS2_2325+0037/2329E4_z_03.fits\n"
     ]
    },
    {
     "name": "stdout",
     "output_type": "stream",
     "text": [
      "→ python software/makestamps_rcs2.py 351.49999999999994 -0.3666666666666666 2.0 --out stamps/RCS2_2326-0022 --exact-only\n"
     ]
    },
    {
     "name": "stderr",
     "output_type": "stream",
     "text": [
      "INFO: Chips seleccionados: ['2329-E3']\n",
      "INFO: Desempaquetado stamps/RCS2_2326-0022/2329E3_g_01.fits\n",
      "INFO: Desempaquetado stamps/RCS2_2326-0022/2329E3_r_01.fits\n",
      "INFO: Desempaquetado stamps/RCS2_2326-0022/2329E3_i_01.fits\n",
      "INFO: Desempaquetado stamps/RCS2_2326-0022/2329E3_z_01.fits\n"
     ]
    }
   ],
   "source": [
    "import pandas as pd\n",
    "import subprocess\n",
    "from pathlib import Path\n",
    "\n",
    "# ── parámetros globales ───────────────────────────────────────────────────\n",
    "CSV_PATH   = \"sc_candidates.csv\"               # tu archivo CSV\n",
    "SCRIPT     = \"software/makestamps_rcs2.py\"            # ruta al script\n",
    "SIZE_ARCMIN = 2.0                            # tamaño del campo\n",
    "BASE_OUT   = Path(\"stamps\")                  # carpeta raíz de salidas\n",
    "EXTRA_OPTS = [\"--exact-only\"]                # otros flags (añade --log DEBUG si quieres)\n",
    "\n",
    "# ── lee la tabla ──────────────────────────────────────────────────────────\n",
    "df = pd.read_csv(CSV_PATH)\n",
    "\n",
    "# ── crea la carpeta base ──────────────────────────────────────────────────\n",
    "BASE_OUT.mkdir(exist_ok=True)\n",
    "\n",
    "for _, row in df.iterrows():\n",
    "    name = row[\"NAME\"]\n",
    "    ra   = row[\"RA_DEG\"]\n",
    "    dec  = row[\"DEC_DEG\"]\n",
    "\n",
    "    out_dir = BASE_OUT / name         # stamps/RCS2_0032+0100/\n",
    "    out_dir.mkdir(exist_ok=True)\n",
    "\n",
    "    cmd = [\n",
    "        \"python\", SCRIPT,\n",
    "        f\"{ra}\", f\"{dec}\", f\"{SIZE_ARCMIN}\",\n",
    "        \"--out\", str(out_dir),\n",
    "        *EXTRA_OPTS,\n",
    "    ]\n",
    "    print(\"→\", \" \".join(cmd))\n",
    "    subprocess.run(cmd, check=True)\n"
   ]
  },
  {
   "cell_type": "code",
   "execution_count": null,
   "id": "4b1e5e3f",
   "metadata": {},
   "outputs": [],
   "source": [
    "def crear_default_sex(fitsfile, outfile, band):\n",
    "    with fits.open(fitsfile) as hdul:\n",
    "        h = hdul[0].header\n",
    "        gain = h.get('GAIN')\n",
    "        sat = h.get('SATURATE')\n",
    "        pixscale = h.get('PIXSCAL1')\n",
    "        zp = h.get('MAG_ZEROPOINT', h.get('PHOT_C'))\n",
    "\n",
    "    sex_config = f\"\"\"\n",
    "CATALOG_NAME     catalogo_{band}.fits\n",
    "CATALOG_TYPE     FITS_LDAC\n",
    "PARAMETERS_NAME  default.param\n",
    "\n",
    "DETECT_TYPE      CCD\n",
    "DETECT_MINAREA   5\n",
    "DETECT_THRESH    1.5\n",
    "ANALYSIS_THRESH  1.5\n",
    "\n",
    "FILTER           Y\n",
    "FILTER_NAME      default.conv\n",
    "DEBLEND_NTHRESH  32\n",
    "DEBLEND_MINCONT  0.005\n",
    "CLEAN            Y\n",
    "CLEAN_PARAM      1.0\n",
    "MASK_TYPE        CORRECT\n",
    "\n",
    "PHOT_APERTURES   2.7\n",
    "PHOT_AUTOPARAMS  2.5, 3.5\n",
    "PHOT_PETROPARAMS 2.0, 3.5\n",
    "\n",
    "#PHOTOMETRY\n",
    "SATUR_LEVEL      {sat}\n",
    "SATUR_KEY        SATURATE\n",
    "MAG_ZEROPOINT    {zp}\n",
    "GAIN             {gain}\n",
    "GAIN_KEY         GAIN\n",
    "PIXEL_SCALE      {pixscale}\n",
    "\n",
    "SEEING_FWHM      1.2\n",
    "STARNNW_NAME     default.nnw\n",
    "\n",
    "BACK_SIZE        64\n",
    "BACK_FILTERSIZE  3\n",
    "BACKPHOTO_TYPE   GLOBAL\n",
    "\n",
    "CHECKIMAGE_TYPE  APERTURES, SEGMENTATION\n",
    "CHECKIMAGE_NAME  apertures_{band}.fits, segmentation_{band}.fits\n",
    "\n",
    "MEMORY_OBJSTACK  3000\n",
    "MEMORY_PIXSTACK  300000\n",
    "MEMORY_BUFSIZE   1024\n",
    "\n",
    "VERBOSE_TYPE     NORMAL\n",
    "HEADER_SUFFIX    .head\n",
    "WRITE_XML        N\n",
    "XML_NAME         sex.xml\n",
    "NTHREADS         1\n",
    "\"\"\"\n",
    "    with open(outfile, 'w') as f:\n",
    "        f.write(sex_config)"
   ]
  },
  {
   "cell_type": "code",
   "execution_count": 4,
   "id": "20e7aa79",
   "metadata": {},
   "outputs": [],
   "source": [
    "lrgs_new = pd.read_csv('lrgs_new.csv')\n",
    "lrgs_phot_new = pd.read_csv('lrgs_phot_new.csv')"
   ]
  }
 ],
 "metadata": {
  "kernelspec": {
   "display_name": "astro_old",
   "language": "python",
   "name": "python3"
  },
  "language_info": {
   "codemirror_mode": {
    "name": "ipython",
    "version": 3
   },
   "file_extension": ".py",
   "mimetype": "text/x-python",
   "name": "python",
   "nbconvert_exporter": "python",
   "pygments_lexer": "ipython3",
   "version": "3.9.22"
  }
 },
 "nbformat": 4,
 "nbformat_minor": 5
}
